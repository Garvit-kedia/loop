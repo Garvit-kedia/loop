{
 "cells": [
  {
   "cell_type": "code",
   "execution_count": 5,
   "metadata": {},
   "outputs": [],
   "source": [
    "# Q1. Explain with an example each when to use a for loop and a while loop.\n",
    "\n",
    "# When to Use For Loop vs While Loop:\n",
    "# Use a for loop when you know the number of iterations beforehand, such as iterating over elements in a list or performing a fixed number of iterations.\n",
    "# Use a while loop when you want to repeat a block of code until a specific condition is met, such as iterating until a certain value is reached or a condition becomes false."
   ]
  },
  {
   "cell_type": "code",
   "execution_count": 6,
   "metadata": {},
   "outputs": [
    {
     "name": "stdout",
     "output_type": "stream",
     "text": [
      "Sum of first 10 natural numbers: 55\n",
      "Product of first 10 natural numbers: 3628800\n",
      "Sum of first 10 natural numbers using while loop: 55\n",
      "Product of first 10 natural numbers using while loop: 3628800\n"
     ]
    }
   ],
   "source": [
    "# Q2. Write a python program to print the sum and product of the first 10 natural numbers using for\n",
    "# and while loop.\n",
    "# Using for loop\n",
    "total_sum = 0\n",
    "total_product = 1\n",
    "\n",
    "for num in range(1, 11):\n",
    "    total_sum += num\n",
    "    total_product *= num\n",
    "\n",
    "print(\"Sum of first 10 natural numbers:\", total_sum)\n",
    "print(\"Product of first 10 natural numbers:\", total_product)\n",
    "\n",
    "# Using while loop\n",
    "total_sum = 0\n",
    "total_product = 1\n",
    "num = 1\n",
    "\n",
    "while num <= 10:\n",
    "    total_sum += num\n",
    "    total_product *= num\n",
    "    num += 1\n",
    "\n",
    "print(\"Sum of first 10 natural numbers using while loop:\", total_sum)\n",
    "print(\"Product of first 10 natural numbers using while loop:\", total_product)\n"
   ]
  },
  {
   "cell_type": "markdown",
   "metadata": {},
   "source": []
  },
  {
   "cell_type": "code",
   "execution_count": 7,
   "metadata": {},
   "outputs": [
    {
     "name": "stdout",
     "output_type": "stream",
     "text": [
      "Electricity Bill: 382.5\n"
     ]
    }
   ],
   "source": [
    "# Q3. Create a python program to compute the electricity bill for a household.\n",
    "units_consumed = 85\n",
    "\n",
    "if units_consumed <= 100:\n",
    "    bill = units_consumed * 4.5\n",
    "elif units_consumed <= 200:\n",
    "    bill = 100 * 4.5 + (units_consumed - 100) * 6\n",
    "elif units_consumed <= 300:\n",
    "    bill = 100 * 4.5 + 100 * 6 + (units_consumed - 200) * 10\n",
    "else:\n",
    "    bill = 100 * 4.5 + 100 * 6 + 100 * 10 + (units_consumed - 300) * 20\n",
    "\n",
    "print(\"Electricity Bill:\", bill)\n",
    "\n"
   ]
  },
  {
   "cell_type": "code",
   "execution_count": 10,
   "metadata": {},
   "outputs": [
    {
     "name": "stdout",
     "output_type": "stream",
     "text": [
      "Numbers whose cube is divisible by 4 or 5 (using for loop): [2, 4, 5, 6, 8, 10, 12, 14, 15, 16, 18, 20, 22, 24, 25, 26, 28, 30, 32, 34, 35, 36, 38, 40, 42, 44, 45, 46, 48, 50, 52, 54, 55, 56, 58, 60, 62, 64, 65, 66, 68, 70, 72, 74, 75, 76, 78, 80, 82, 84, 85, 86, 88, 90, 92, 94, 95, 96, 98, 100]\n",
      "Numbers whose cube is divisible by 4 or 5 (using while loop): [2, 4, 5, 6, 8, 10, 12, 14, 15, 16, 18, 20, 22, 24, 25, 26, 28, 30, 32, 34, 35, 36, 38, 40, 42, 44, 45, 46, 48, 50, 52, 54, 55, 56, 58, 60, 62, 64, 65, 66, 68, 70, 72, 74, 75, 76, 78, 80, 82, 84, 85, 86, 88, 90, 92, 94, 95, 96, 98, 100]\n"
     ]
    }
   ],
   "source": [
    "# Q4. Create a list of numbers from 1 to 100. Use for loop and while loop to calculate the cube of each\n",
    "# number and if the cube of that number is divisible by 4 or 5 then append that number in a list and print\n",
    "# that list.\n",
    "# The per-unit charges in rupees are as follows: For the first 100 units, the user will be charged Rs. 4.5 per\n",
    "# unit, for the next 100 units, the user will be charged Rs. 6 per unit, and for the next 100 units, the user will\n",
    "# be charged Rs. 10 per unit, After 300 units and above the user will be charged Rs. 20 per unit.\n",
    "# You are required to take the units of electricity consumed in a month from the user as input.\n",
    "# Your program must pass this test case: when the unit of electricity consumed by the user in a month is\n",
    "# 310, the total electricity bill should be 2250.\n",
    "\n",
    "cubes_divisible_by_4_or_5 = []\n",
    "\n",
    "# Using for loop\n",
    "for num in range(1, 101):\n",
    "    cube = num ** 3\n",
    "    if cube % 4 == 0 or cube % 5 == 0:\n",
    "        cubes_divisible_by_4_or_5.append(num)\n",
    "\n",
    "print(\"Numbers whose cube is divisible by 4 or 5 (using for loop):\", cubes_divisible_by_4_or_5)\n",
    "\n",
    "cubes_divisible_by_4_or_5 = []\n",
    "num = 1\n",
    "\n",
    "# Using while loop\n",
    "while num <= 100:\n",
    "    cube = num ** 3\n",
    "    if cube % 4 == 0 or cube % 5 == 0:\n",
    "        cubes_divisible_by_4_or_5.append(num)\n",
    "    num += 1\n",
    "\n",
    "print(\"Numbers whose cube is divisible by 4 or 5 (using while loop):\", cubes_divisible_by_4_or_5)\n",
    "\n"
   ]
  },
  {
   "cell_type": "code",
   "execution_count": 11,
   "metadata": {},
   "outputs": [
    {
     "name": "stdout",
     "output_type": "stream",
     "text": [
      "Number of vowels in the string: 12\n"
     ]
    }
   ],
   "source": [
    "\n",
    "# Q5. Write a program to filter count vowels in the below-given string.\n",
    "# string = \"I want to become a data scientist\"\n",
    "string = \"I want to become a data scientist\"\n",
    "vowels = 'aeiouAEIOU'\n",
    "vowel_count = 0\n",
    "\n",
    "for char in string:\n",
    "    if char in vowels:\n",
    "        vowel_count += 1\n",
    "\n",
    "print(\"Number of vowels in the string:\", vowel_count)\n",
    "\n"
   ]
  },
  {
   "cell_type": "code",
   "execution_count": null,
   "metadata": {},
   "outputs": [],
   "source": []
  }
 ],
 "metadata": {
  "kernelspec": {
   "display_name": "Python 3",
   "language": "python",
   "name": "python3"
  },
  "language_info": {
   "codemirror_mode": {
    "name": "ipython",
    "version": 3
   },
   "file_extension": ".py",
   "mimetype": "text/x-python",
   "name": "python",
   "nbconvert_exporter": "python",
   "pygments_lexer": "ipython3",
   "version": "3.12.1"
  }
 },
 "nbformat": 4,
 "nbformat_minor": 2
}
